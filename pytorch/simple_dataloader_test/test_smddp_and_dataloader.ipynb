{
 "cells": [
  {
   "cell_type": "markdown",
   "id": "814aa5b1",
   "metadata": {},
   "source": [
    "## Amazon SageMaker Initialization\n",
    "\n",
    "Initialize the notebook instance. Get the AWS Region and a SageMaker execution role.\n",
    "\n",
    "### SageMaker role\n",
    "\n",
    "The following code cell defines `role` which is the IAM role ARN used to create and run SageMaker training and hosting jobs. This is the same IAM role used to create this SageMaker Notebook instance. \n",
    "\n",
    "`role` must have permission to create a SageMaker training job and host a model. For granular policies you can use to grant these permissions, see [Amazon SageMaker Roles](https://docs.aws.amazon.com/sagemaker/latest/dg/sagemaker-roles.html). If you do not require fine-tuned permissions for this demo, you can use the IAM managed policy AmazonSageMakerFullAccess to complete this demo. "
   ]
  },
  {
   "cell_type": "code",
   "execution_count": null,
   "id": "18e20fd0",
   "metadata": {},
   "outputs": [],
   "source": [
    "%%time\n",
    "! python3 -m pip install --upgrade sagemaker\n",
    "import sagemaker\n",
    "from sagemaker import get_execution_role\n",
    "from sagemaker.estimator import Estimator\n",
    "import boto3\n",
    "\n",
    "sagemaker_session = sagemaker.Session()\n",
    "bucket = sagemaker_session.default_bucket()\n",
    "\n",
    "role = (\n",
    "    get_execution_role()\n",
    ")  # provide a pre-existing role ARN as an alternative to creating a new role\n",
    "role_name = role.split([\"/\"][-1])\n",
    "print(f\"SageMaker Execution Role: {role}\")\n",
    "print(f\"The name of the Execution role: {role_name[-1]}\")\n",
    "\n",
    "client = boto3.client(\"sts\")\n",
    "account = client.get_caller_identity()[\"Account\"]\n",
    "print(f\"AWS account: {account}\")\n",
    "\n",
    "session = boto3.session.Session()\n",
    "region = session.region_name\n",
    "print(f\"AWS region: {region}\")"
   ]
  },
  {
   "cell_type": "markdown",
   "id": "bc52b769",
   "metadata": {},
   "source": [
    "To verify that the role above has required permissions:\n",
    "\n",
    "1. Go to the [IAM console](https://console.aws.amazon.com/iam/home).\n",
    "2. Select **Roles**.\n",
    "3. Enter the role name in the search box to search for that role. \n",
    "4. Select the role.\n",
    "5. Use the **Permissions** tab to verify this role has required permissions attached."
   ]
  },
  {
   "cell_type": "markdown",
   "id": "0e5fa06b",
   "metadata": {},
   "source": [
    "## Configure SageMaker PyTorch Estimator function options\n",
    "\n",
    "In the following code blocks, you can update the estimator function to use a different instance type, instance count, distribution strategy and hyperparameters. You're also passing an entry point to the training script.\n",
    "\n",
    "**Instance types**\n",
    "\n",
    "For this experiment, we recommend using any of the following instance types:\n",
    "\n",
    "1. `ml.p4d.24xlarge`\n",
    "1. `ml.p4de.24xlarge`\n",
    "\n",
    "**Instance count**\n",
    "\n",
    "You should use at least 2 instances."
   ]
  },
  {
   "cell_type": "code",
   "execution_count": null,
   "id": "c46ec3c0",
   "metadata": {},
   "outputs": [],
   "source": [
    "instance_type = \"ml.p4d.24xlarge\"  # Other supported instance type: ml.p3.16xlarge, ml.p3dn.24xlarge\n",
    "instance_count = 8  # You can use 2, 4, 8, etc."
   ]
  },
  {
   "cell_type": "markdown",
   "id": "c0bd048b",
   "metadata": {},
   "source": [
    "**Distribution strategy**\n",
    "\n",
    "Note that to use SMDDP collectives, you need to update the `distribution` strategy, and set it to use `smdistributed dataparallel`."
   ]
  },
  {
   "cell_type": "code",
   "execution_count": null,
   "id": "1e26269a",
   "metadata": {},
   "outputs": [],
   "source": [
    "dist_strategy = {\"smdistributed\": {\"dataparallel\": {\"enabled\": True}}}"
   ]
  },
  {
   "cell_type": "markdown",
   "id": "d9c938e8",
   "metadata": {},
   "source": [
    "**Create the estimator function and pass the parameters**\n",
    "\n",
    "Use all parameters from previous sections to configure the estimator function."
   ]
  },
  {
   "cell_type": "code",
   "execution_count": null,
   "id": "59906ba1",
   "metadata": {},
   "outputs": [],
   "source": [
    "from sagemaker.pytorch import PyTorch\n",
    "\n",
    "estimator = PyTorch(\n",
    "    entry_point=\"run_dataloader.py\",\n",
    "    role=role,\n",
    "    image_uri= <YOUR_DLC>, # Modify this line to use your DLC.\n",
    "    source_dir=\".\",\n",
    "    instance_count=instance_count,\n",
    "    instance_type=instance_type,\n",
    "    py_version=\"py39\",\n",
    "    sagemaker_session=sagemaker_session,\n",
    "    debugger_hook_config=False,\n",
    "    distribution=dist_strategy,\n",
    ")"
   ]
  },
  {
   "cell_type": "markdown",
   "id": "62763dd7",
   "metadata": {},
   "source": [
    "## Start the SageMaker training job\n",
    "The last step before launching the training job is to assign it a name. It is used as prefix to the SageMaker training job, so you can identify it easily in the [SageMaker console](console.aws.amazon.com/sagemaker/)."
   ]
  },
  {
   "cell_type": "code",
   "execution_count": null,
   "id": "7e62ec38",
   "metadata": {},
   "outputs": [],
   "source": [
    "job_name = f\"pt-smddp-test-{instance_count}-p4d\""
   ]
  },
  {
   "cell_type": "code",
   "execution_count": null,
   "id": "e44181ed",
   "metadata": {},
   "outputs": [],
   "source": [
    "# Submit SageMaker training job\n",
    "estimator.fit(job_name=job_name)"
   ]
  }
 ],
 "metadata": {
  "kernelspec": {
   "display_name": "conda_amazonei_pytorch_latest_p37",
   "language": "python",
   "name": "conda_amazonei_pytorch_latest_p37"
  },
  "language_info": {
   "codemirror_mode": {
    "name": "ipython",
    "version": 3
   },
   "file_extension": ".py",
   "mimetype": "text/x-python",
   "name": "python",
   "nbconvert_exporter": "python",
   "pygments_lexer": "ipython3",
   "version": "3.7.10"
  }
 },
 "nbformat": 4,
 "nbformat_minor": 5
}
